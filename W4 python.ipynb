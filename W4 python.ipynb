{
 "cells": [
  {
   "cell_type": "code",
   "execution_count": null,
   "id": "fdf160f9-0207-4f87-8435-d56ce6ce1b2e",
   "metadata": {},
   "outputs": [],
   "source": [
    "# Q1. Explain class and object with respect to object-oriented programming. Give a suitale example.\n",
    "\"\"\" Class--Classes are user-defined data types that act as the blueprint for individual objects, attributes and methods.\n",
    "    Objects--Objects are instances of a class created with specifically defined data. \n",
    "    Example--If car is class then we can define attributes such  as color, brand, speed, model.\"\"\""
   ]
  },
  {
   "cell_type": "code",
   "execution_count": 1,
   "id": "67980789-0100-4943-8685-88588af9f377",
   "metadata": {},
   "outputs": [],
   "source": [
    "class car:\n",
    "    def __init__(self, color,brand,model):\n",
    "        \n",
    "        self.Color = color\n",
    "        self.brand = brand\n",
    "        self.model = model\n",
    "        \n",
    "    def return_car_details(self):\n",
    "        return self.color,self.brand,self.model"
   ]
  },
  {
   "cell_type": "code",
   "execution_count": 4,
   "id": "eb300582-bc88-441c-9faa-d571ae44b030",
   "metadata": {},
   "outputs": [],
   "source": [
    "Car_details=car(\"blue\",\"Honda\",\"Elevate\")"
   ]
  },
  {
   "cell_type": "code",
   "execution_count": 5,
   "id": "0c1cbc8e-1620-4136-bb97-a1e53d215c3c",
   "metadata": {},
   "outputs": [
    {
     "data": {
      "text/plain": [
       "'Honda'"
      ]
     },
     "execution_count": 5,
     "metadata": {},
     "output_type": "execute_result"
    }
   ],
   "source": [
    "Car_details.brand"
   ]
  },
  {
   "cell_type": "code",
   "execution_count": null,
   "id": "d9f78b95-2953-40cb-b60c-e79c0a25ea18",
   "metadata": {},
   "outputs": [],
   "source": [
    "# Q2. Name the four pillars of OOPs.\n",
    "\"\"\" 1. Abstraction\n",
    "    2. Encapsulation\n",
    "    3. Inheritance\n",
    "    4. Polymorphism\"\"\""
   ]
  },
  {
   "cell_type": "code",
   "execution_count": null,
   "id": "70b73af5-0968-4359-ba42-aa425866a5b5",
   "metadata": {},
   "outputs": [],
   "source": [
    "#Q3. Explain why the __init__function is used.Give a suitable example.\n",
    "\"\"\" The __init__ method is the constructor in an object-oriented approach. \n",
    "The __init__ function is called every time an object is created from a class. \n",
    "The __init__ method lets the class initialize the object's attributes and serves no other purpose. \n",
    "It is only used within classes."
   ]
  },
  {
   "cell_type": "code",
   "execution_count": 6,
   "id": "348d5ba3-0e78-4cf6-9887-d0d20f8c2b04",
   "metadata": {},
   "outputs": [],
   "source": [
    "class test:\n",
    "    def __init__(self,a,b):\n",
    "        self.a=a\n",
    "        self.b=b"
   ]
  },
  {
   "cell_type": "code",
   "execution_count": 7,
   "id": "03dbc726-54ba-4774-8630-0497afa07c06",
   "metadata": {},
   "outputs": [],
   "source": [
    "t=test(2,3)"
   ]
  },
  {
   "cell_type": "code",
   "execution_count": 8,
   "id": "15669a14-1a3c-43e3-a713-8a777c53b0d4",
   "metadata": {},
   "outputs": [
    {
     "data": {
      "text/plain": [
       "2"
      ]
     },
     "execution_count": 8,
     "metadata": {},
     "output_type": "execute_result"
    }
   ],
   "source": [
    "t.a"
   ]
  },
  {
   "cell_type": "code",
   "execution_count": null,
   "id": "ff65f59d-b5de-4299-9fb9-476e7e0ab51b",
   "metadata": {},
   "outputs": [],
   "source": [
    "#Q4. Why self is used in OOPs.\n",
    "\"\"\" The self variable is used to represent the instance of the class. It works as a reference to the object.\"\"\""
   ]
  },
  {
   "cell_type": "code",
   "execution_count": null,
   "id": "b9bbd35f-d9bb-4d4f-a9b9-f3c5fb1ba7fd",
   "metadata": {},
   "outputs": [],
   "source": [
    "#Q5. What is inheritance. Give an example for each type of inheritance.\n",
    "\"\"\" Inheritance is a mechanism in which one class acquires the property of another class. \n",
    "For example, a child inherits the traits of his/her parents. \n",
    "With inheritance, we can reuse the fields and methods of the existing class.\"\"\""
   ]
  },
  {
   "cell_type": "code",
   "execution_count": 9,
   "id": "589f548d-bc75-48ca-a6c6-3c5d42b4d8fb",
   "metadata": {},
   "outputs": [],
   "source": [
    "\"\"\" Single Inheritance\"\"\"\n",
    "class parent:\n",
    "    def test_parent(self):\n",
    "        print (\"welcome to Parent class\")\n",
    "        \n",
    "class child(parent):\n",
    "    pass"
   ]
  },
  {
   "cell_type": "code",
   "execution_count": 10,
   "id": "9c57c634-16c4-44a4-a208-362036f43cf4",
   "metadata": {},
   "outputs": [],
   "source": [
    "child_obj=child()"
   ]
  },
  {
   "cell_type": "code",
   "execution_count": 11,
   "id": "64b66f2b-1cd7-4efc-b0fd-efd1f3bf28b0",
   "metadata": {},
   "outputs": [
    {
     "name": "stdout",
     "output_type": "stream",
     "text": [
      "welcome to Parent class\n"
     ]
    }
   ],
   "source": [
    "child_obj.test_parent()"
   ]
  },
  {
   "cell_type": "code",
   "execution_count": 14,
   "id": "68cf1854-b0bb-46a3-b96a-e32bf80c98f3",
   "metadata": {},
   "outputs": [],
   "source": [
    "\"\"\" Multiple Inheritance \"\"\"\n",
    "class class1:\n",
    "    def test_class1(self):\n",
    "        print(\"This is class1\")\n",
    "        \n",
    "class class2:\n",
    "    def test_class2(self):\n",
    "        print(\"This is class2\")\n",
    "        \n",
    "class class3 (class1,class2):\n",
    "    pass"
   ]
  },
  {
   "cell_type": "code",
   "execution_count": 19,
   "id": "396d5b13-87a2-4e1b-b2f9-fb4a9f70c9fb",
   "metadata": {},
   "outputs": [],
   "source": [
    "Class3=class3()"
   ]
  },
  {
   "cell_type": "code",
   "execution_count": 20,
   "id": "e6cf5572-e7c7-4b75-9903-ba49ea3577e5",
   "metadata": {},
   "outputs": [
    {
     "name": "stdout",
     "output_type": "stream",
     "text": [
      "This is class1\n"
     ]
    }
   ],
   "source": [
    "Class3.test_class1()"
   ]
  },
  {
   "cell_type": "code",
   "execution_count": 22,
   "id": "6b5473b2-5a8c-44aa-8c23-762c530c9c57",
   "metadata": {},
   "outputs": [
    {
     "name": "stdout",
     "output_type": "stream",
     "text": [
      "This is class2\n"
     ]
    }
   ],
   "source": [
    "Class3.test_class2()"
   ]
  },
  {
   "cell_type": "code",
   "execution_count": 23,
   "id": "e71ea832-7fe5-4c60-8b17-b7061a95567b",
   "metadata": {},
   "outputs": [],
   "source": [
    "\"\"\"Multi Level Inheritance\"\"\"\n",
    "class class1:\n",
    "    def test_class1(self):\n",
    "        print(\"This is class1\")\n",
    "\n",
    "\n",
    "class class2(class1):\n",
    "    def test_class2(self):\n",
    "        print(\"This is class2\")\n",
    "        \n",
    "\n",
    "class class3(class2):\n",
    "    def test_class3(self):\n",
    "        print(\"This is class3\")"
   ]
  },
  {
   "cell_type": "code",
   "execution_count": 24,
   "id": "ea92e6e8-7be2-46e4-bb9e-76c9ffafae2d",
   "metadata": {},
   "outputs": [],
   "source": [
    "Obj_class3= class3()"
   ]
  },
  {
   "cell_type": "code",
   "execution_count": 25,
   "id": "03cfb1d4-cbcc-4ae3-a1bb-bba6f47dddd1",
   "metadata": {},
   "outputs": [
    {
     "name": "stdout",
     "output_type": "stream",
     "text": [
      "This is class1\n"
     ]
    }
   ],
   "source": [
    "Obj_class3.test_class1()"
   ]
  },
  {
   "cell_type": "code",
   "execution_count": 26,
   "id": "badad1da-03ab-48a3-bed1-e3b346e4d9c5",
   "metadata": {},
   "outputs": [
    {
     "name": "stdout",
     "output_type": "stream",
     "text": [
      "This is class2\n"
     ]
    }
   ],
   "source": [
    "Obj_class3.test_class2()"
   ]
  },
  {
   "cell_type": "code",
   "execution_count": null,
   "id": "26cc19e5-3cee-43fd-bb8a-0c25670a3fc1",
   "metadata": {},
   "outputs": [],
   "source": []
  }
 ],
 "metadata": {
  "kernelspec": {
   "display_name": "Python 3 (ipykernel)",
   "language": "python",
   "name": "python3"
  },
  "language_info": {
   "codemirror_mode": {
    "name": "ipython",
    "version": 3
   },
   "file_extension": ".py",
   "mimetype": "text/x-python",
   "name": "python",
   "nbconvert_exporter": "python",
   "pygments_lexer": "ipython3",
   "version": "3.10.8"
  }
 },
 "nbformat": 4,
 "nbformat_minor": 5
}
