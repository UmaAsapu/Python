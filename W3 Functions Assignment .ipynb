{
 "cells": [
  {
   "cell_type": "code",
   "execution_count": 3,
   "id": "f8f502ba-968d-4203-b219-1177049aefd9",
   "metadata": {},
   "outputs": [],
   "source": [
    "# Q1. Which keyword is used to create a function?\n",
    "\"\"\" def is the keyword used to create a function\"\"\"\n",
    "# Create a function to return a list of odd numbers in the range of  1to 25.\n",
    "\n",
    "def test(a):\n",
    "    n=[]\n",
    "    for i in a:\n",
    "        if i%2 != 0:\n",
    "            n.append(i)\n",
    "    return n\n"
   ]
  },
  {
   "cell_type": "code",
   "execution_count": 4,
   "id": "19f8e5a2-79f8-42dd-a6dd-195c0ce9b68d",
   "metadata": {},
   "outputs": [
    {
     "data": {
      "text/plain": [
       "[1, 3, 5, 7, 9, 11, 13, 15, 17, 19, 21, 23]"
      ]
     },
     "execution_count": 4,
     "metadata": {},
     "output_type": "execute_result"
    }
   ],
   "source": [
    "test(range(1,25))"
   ]
  },
  {
   "cell_type": "code",
   "execution_count": 5,
   "id": "55814a81-f4fe-4b98-a2e0-f4cfbc19dd3d",
   "metadata": {},
   "outputs": [],
   "source": [
    "# Q2. Why *args and **kwargs is used in some functions?\n",
    "\"\"\" We use *args and **kwargs as arguments of a function when you are unsure about the number of arguments \n",
    "to pass in the functions.\"\"\"\n",
    "# Create a function each for *args and **kwargs to demonstrate their use.\n",
    "\"\"\" args function\"\"\"\n",
    "def test1(*argu):\n",
    "    return argu"
   ]
  },
  {
   "cell_type": "code",
   "execution_count": 6,
   "id": "2458c85e-dbba-44d5-b00d-932184a315bf",
   "metadata": {},
   "outputs": [
    {
     "data": {
      "text/plain": [
       "(1,)"
      ]
     },
     "execution_count": 6,
     "metadata": {},
     "output_type": "execute_result"
    }
   ],
   "source": [
    "test1(1)"
   ]
  },
  {
   "cell_type": "code",
   "execution_count": 7,
   "id": "7a2ae5c6-8f31-41c3-833e-baafedbf4960",
   "metadata": {},
   "outputs": [
    {
     "data": {
      "text/plain": [
       "(1, 2, 3, 4, 5, 6)"
      ]
     },
     "execution_count": 7,
     "metadata": {},
     "output_type": "execute_result"
    }
   ],
   "source": [
    "test1(1,2,3,4,5,6)"
   ]
  },
  {
   "cell_type": "code",
   "execution_count": 8,
   "id": "5667b8d8-2812-4e04-b57b-952c07fc5909",
   "metadata": {},
   "outputs": [],
   "source": [
    "\"kwargs function\"\"\"\n",
    "\n",
    "def test2(**kwargs):\n",
    "    return kwargs"
   ]
  },
  {
   "cell_type": "code",
   "execution_count": 11,
   "id": "b255b4f4-63b9-4d4b-b995-5f2716ed0f28",
   "metadata": {},
   "outputs": [
    {
     "data": {
      "text/plain": [
       "{'a': 12, 'b': 23, 'c': [1, 2, 3, 4, 5], 'd': 'UMA', 'e': ('Asapu', 'Beeraka')}"
      ]
     },
     "execution_count": 11,
     "metadata": {},
     "output_type": "execute_result"
    }
   ],
   "source": [
    "test2(a=12,b=23,c=[1,2,3,4,5],d=\"UMA\",e=(\"Asapu\", \"Beeraka\"))"
   ]
  },
  {
   "cell_type": "code",
   "execution_count": 12,
   "id": "4325327f-5f4c-4ed2-af09-a61b22c60f35",
   "metadata": {},
   "outputs": [
    {
     "name": "stdout",
     "output_type": "stream",
     "text": [
      "2\n",
      "4\n",
      "6\n",
      "8\n",
      "10\n"
     ]
    }
   ],
   "source": [
    "# Q3. What is an iterator in python? \n",
    "\"\"\" iterator is an object that allows you to iterate over collections of data, such as \n",
    "lists, tuples, dictionaries, and sets\"\"\"\n",
    "# Name the method used to initialise the iterator object and the method used for iteration.\n",
    "\"\"\" iter() method is used to initialize the iterator object so that the instance of this object \n",
    "can be used for iterating.\"\"\"\n",
    "# Use iter method to print first five elements of the given list [2,4,6,8,10,12,14,16,18,20].\n",
    "\n",
    "list = [2,4,6,8,10,12,14,16,18,20]\n",
    "first_five = iter(list)\n",
    "for i in range(5):\n",
    "    print(next(first_five))"
   ]
  },
  {
   "cell_type": "code",
   "execution_count": 2,
   "id": "88812abd-0f32-4af7-b3b5-4e2fc987433c",
   "metadata": {},
   "outputs": [],
   "source": [
    "# Q4. What is a generator function in python?\n",
    "\"\"\" A generator is a special type of function which does not return a single value, instead, \n",
    "it returns an iterator object with a sequence of values.Generator function allows you to declare a \n",
    "function that behaves like an iterator, providing a faster and easier way to create iterators \"\"\"\n",
    "# Why yield keyword is used?\n",
    "\"\"\" The yield keyword controls the flow of a generator function. \n",
    "This is similar to a return statement used for returning values in normal function\"\"\"\n",
    "# Give an example of a generator function.\n",
    "\n",
    "def test_fib(n):\n",
    "    a,b=0,1\n",
    "    for i in range(n):\n",
    "        yield a\n",
    "        a,b = b,a+b"
   ]
  },
  {
   "cell_type": "code",
   "execution_count": 3,
   "id": "9612e5dd-bdfb-45e5-8307-feec2078e600",
   "metadata": {},
   "outputs": [
    {
     "name": "stdout",
     "output_type": "stream",
     "text": [
      "0\n",
      "1\n",
      "1\n",
      "2\n",
      "3\n",
      "5\n",
      "8\n",
      "13\n",
      "21\n",
      "34\n"
     ]
    }
   ],
   "source": [
    "for i in test_fib(10):\n",
    "    print(i)"
   ]
  },
  {
   "cell_type": "code",
   "execution_count": 1,
   "id": "47bf33a7-56c8-4332-9738-80fd6da95982",
   "metadata": {},
   "outputs": [
    {
     "name": "stdout",
     "output_type": "stream",
     "text": [
      "1\n",
      "2\n",
      "3\n",
      "4\n",
      "5\n",
      "6\n",
      "7\n",
      "8\n",
      "9\n",
      "10\n",
      "11\n",
      "12\n",
      "13\n",
      "14\n",
      "15\n",
      "16\n",
      "17\n",
      "18\n",
      "19\n",
      "20\n"
     ]
    }
   ],
   "source": [
    "# Q5. Create a generator function for prime numbers less than 1000. \n",
    "# Use the next() method to print the first 20 prime numbers\n",
    "l1= list(range(1,1001))\n",
    "first_twenty = iter(l1)\n",
    "for i in range(20):\n",
    "    print(next(first_twenty))"
   ]
  },
  {
   "cell_type": "code",
   "execution_count": null,
   "id": "5f78b5ee-6a05-4054-bbf9-3f3a9974620c",
   "metadata": {},
   "outputs": [],
   "source": []
  }
 ],
 "metadata": {
  "kernelspec": {
   "display_name": "Python 3 (ipykernel)",
   "language": "python",
   "name": "python3"
  },
  "language_info": {
   "codemirror_mode": {
    "name": "ipython",
    "version": 3
   },
   "file_extension": ".py",
   "mimetype": "text/x-python",
   "name": "python",
   "nbconvert_exporter": "python",
   "pygments_lexer": "ipython3",
   "version": "3.10.8"
  }
 },
 "nbformat": 4,
 "nbformat_minor": 5
}
