{
 "cells": [
  {
   "cell_type": "code",
   "execution_count": null,
   "id": "a0b4d599-8f0e-4001-8b89-b320fd6d2f5b",
   "metadata": {},
   "outputs": [],
   "source": [
    "# Q1. Create a vehicle class with an init method having instance variables as name_of_Vehicle, max_speed and average_of_vehicle"
   ]
  },
  {
   "cell_type": "code",
   "execution_count": 4,
   "id": "0f2685bd-7bed-4211-9135-599b5a381a6e",
   "metadata": {},
   "outputs": [],
   "source": [
    "class vehicle:\n",
    "    def __init__(self,name,max_speed,average):\n",
    "        self.name=name\n",
    "        self.max_speed=max_speed\n",
    "        self.average=average\n",
    "    def return_vehicle_details(self):\n",
    "        return self.name,self.max_speed,self.average"
   ]
  },
  {
   "cell_type": "code",
   "execution_count": 5,
   "id": "cf3c757e-2e27-43ce-9059-8647459f1a7d",
   "metadata": {},
   "outputs": [],
   "source": [
    "car = vehicle(\"Honda\",180,100)"
   ]
  },
  {
   "cell_type": "code",
   "execution_count": 6,
   "id": "95f7b2a4-a4c9-407f-a617-0bb474901a49",
   "metadata": {},
   "outputs": [
    {
     "data": {
      "text/plain": [
       "'Honda'"
      ]
     },
     "execution_count": 6,
     "metadata": {},
     "output_type": "execute_result"
    }
   ],
   "source": [
    "car.name"
   ]
  },
  {
   "cell_type": "code",
   "execution_count": 7,
   "id": "ea342a35-6b77-4688-8390-1533187b64e6",
   "metadata": {},
   "outputs": [
    {
     "data": {
      "text/plain": [
       "180"
      ]
     },
     "execution_count": 7,
     "metadata": {},
     "output_type": "execute_result"
    }
   ],
   "source": [
    "car.max_speed"
   ]
  },
  {
   "cell_type": "code",
   "execution_count": 8,
   "id": "9313c7b4-e1f5-4b26-b9be-79db81c63140",
   "metadata": {},
   "outputs": [
    {
     "data": {
      "text/plain": [
       "100"
      ]
     },
     "execution_count": 8,
     "metadata": {},
     "output_type": "execute_result"
    }
   ],
   "source": [
    "car.average"
   ]
  },
  {
   "cell_type": "code",
   "execution_count": 9,
   "id": "67bc2048-f446-4397-91fb-5171d2f0f842",
   "metadata": {},
   "outputs": [
    {
     "data": {
      "text/plain": [
       "('Honda', 180, 100)"
      ]
     },
     "execution_count": 9,
     "metadata": {},
     "output_type": "execute_result"
    }
   ],
   "source": [
    "car.return_vehicle_details()"
   ]
  },
  {
   "cell_type": "code",
   "execution_count": null,
   "id": "7425ea21-e7c2-46b3-9a95-734d039877c4",
   "metadata": {},
   "outputs": [],
   "source": [
    "#Q2. Create a child class car from the vehicle class created in Que1,which will inherit the vehicle class.\n",
    "# Create a method named seating_capacity which takes capacity as an argument and returns the name of the vehicle and its seating capacity."
   ]
  },
  {
   "cell_type": "code",
   "execution_count": 17,
   "id": "a8d3135a-018c-4c0c-bf6c-071aa0aa72e3",
   "metadata": {},
   "outputs": [],
   "source": [
    "class child(vehicle):\n",
    "    def seating_capacity(self,seating_capacity):\n",
    "        return \"Name of the vehicle is \"+str(self.name)+\" and capacity is \"+str(seating_capacity)\n",
    "  "
   ]
  },
  {
   "cell_type": "code",
   "execution_count": 18,
   "id": "0fcb3d8f-a906-4bbd-8d34-2acf6a634936",
   "metadata": {},
   "outputs": [],
   "source": [
    "car1 = child(\"Jeep\",180,120)"
   ]
  },
  {
   "cell_type": "code",
   "execution_count": 19,
   "id": "1a577fc9-420f-430a-b68f-97716a43d18d",
   "metadata": {},
   "outputs": [
    {
     "data": {
      "text/plain": [
       "'Name of the vehicle is Jeep and capacity is 7'"
      ]
     },
     "execution_count": 19,
     "metadata": {},
     "output_type": "execute_result"
    }
   ],
   "source": [
    "car1.seating_capacity(7)"
   ]
  },
  {
   "cell_type": "code",
   "execution_count": null,
   "id": "0d3d205c-8484-4179-8bfb-f25fca624df3",
   "metadata": {},
   "outputs": [],
   "source": [
    "#Q3. What is multiple inheritance? Write a python code to demonstrate multiple iheritance.\n",
    "\"\"\" If a child class inherits from more than one class, \n",
    "i.e. this child class is derived from multiple classes, we call it multiple inheritance"
   ]
  },
  {
   "cell_type": "code",
   "execution_count": 29,
   "id": "5851bcf5-294b-4216-a2db-9213b79b11fa",
   "metadata": {},
   "outputs": [],
   "source": [
    "class class1:\n",
    "    def test_class1(self):\n",
    "        print(\"This is class1\")\n",
    "        \n",
    "class class2:\n",
    "    def test_class2(self):\n",
    "        print(\"This is class2\")\n",
    "        \n",
    "class class3 (class1,class2):\n",
    "    pass"
   ]
  },
  {
   "cell_type": "code",
   "execution_count": 30,
   "id": "26def1f6-523a-401a-863e-73a7be768e42",
   "metadata": {},
   "outputs": [],
   "source": [
    "Class3=class3()"
   ]
  },
  {
   "cell_type": "code",
   "execution_count": 32,
   "id": "d93be93a-007e-4d83-9945-6eee741245cb",
   "metadata": {},
   "outputs": [
    {
     "name": "stdout",
     "output_type": "stream",
     "text": [
      "This is class1\n"
     ]
    }
   ],
   "source": [
    "Class3.test_class1()"
   ]
  },
  {
   "cell_type": "code",
   "execution_count": 33,
   "id": "44905c51-23ae-4405-8237-1145d7b699fb",
   "metadata": {},
   "outputs": [
    {
     "name": "stdout",
     "output_type": "stream",
     "text": [
      "This is class2\n"
     ]
    }
   ],
   "source": [
    "Class3.test_class2()"
   ]
  },
  {
   "cell_type": "code",
   "execution_count": null,
   "id": "98ccde48-7485-404a-99d7-e8442f06a525",
   "metadata": {},
   "outputs": [],
   "source": [
    "#Q4 What are getter and setter in python? Create a class and and create a getter and setter method in this class\n",
    "\"\"\"Getter: A method that allows you to access an attribute in a given class. \n",
    "   Setter: A method that allows you to set or mutate the value of an attribute in a class.\"\"\""
   ]
  },
  {
   "cell_type": "code",
   "execution_count": 42,
   "id": "21bd6211-b991-45c8-afd4-4ddea5100e0c",
   "metadata": {},
   "outputs": [],
   "source": [
    "class person:\n",
    "    def __init__(self, name, gender, age):\n",
    "        self.name = name\n",
    "        self.gender=gender\n",
    "        self.__age=age\n",
    "# Getter Method\n",
    "    def get__age(self):\n",
    "        return self.__age\n",
    "# Setter Method\n",
    "    def set__age(self,age):\n",
    "        self.__age=age\n",
    "        "
   ]
  },
  {
   "cell_type": "code",
   "execution_count": 43,
   "id": "0270dd04-112a-4a97-b342-3c1ddb935c3d",
   "metadata": {},
   "outputs": [],
   "source": [
    "per = person(\"Krishna\",\"Male\", 25)"
   ]
  },
  {
   "cell_type": "code",
   "execution_count": 44,
   "id": "363fccda-a796-489d-bd36-9198e7542155",
   "metadata": {},
   "outputs": [
    {
     "data": {
      "text/plain": [
       "'Krishna'"
      ]
     },
     "execution_count": 44,
     "metadata": {},
     "output_type": "execute_result"
    }
   ],
   "source": [
    "per.name"
   ]
  },
  {
   "cell_type": "code",
   "execution_count": 45,
   "id": "fc50f3e6-bb40-46e7-b90f-f7c2a7460d62",
   "metadata": {},
   "outputs": [
    {
     "data": {
      "text/plain": [
       "25"
      ]
     },
     "execution_count": 45,
     "metadata": {},
     "output_type": "execute_result"
    }
   ],
   "source": [
    "per.get__age()"
   ]
  },
  {
   "cell_type": "code",
   "execution_count": 46,
   "id": "b83dab17-1520-4a27-88b3-103aa9f0b00f",
   "metadata": {},
   "outputs": [],
   "source": [
    "per.set__age(45)"
   ]
  },
  {
   "cell_type": "code",
   "execution_count": 49,
   "id": "337eacc3-95d1-487a-8df2-9fdb28b90cda",
   "metadata": {},
   "outputs": [
    {
     "data": {
      "text/plain": [
       "45"
      ]
     },
     "execution_count": 49,
     "metadata": {},
     "output_type": "execute_result"
    }
   ],
   "source": [
    "per.get__age()"
   ]
  },
  {
   "cell_type": "code",
   "execution_count": null,
   "id": "96c99037-1da2-4b84-9e6d-856b1120fefe",
   "metadata": {},
   "outputs": [],
   "source": [
    "#Q5. What is method overriding in python? Write a python code to demonstrate method overriding.\n",
    "\"\"\" Method overriding is a feature where the subclass or child class defines a method with the same name as \n",
    "method in its prent class.The child class or subclass overrides the implementation of the parent class method, \n",
    "allowing the child class or subclass to provide its own implementation\"\"\""
   ]
  },
  {
   "cell_type": "code",
   "execution_count": 50,
   "id": "dcec2264-932b-4840-8394-2581b1c3c7f8",
   "metadata": {},
   "outputs": [],
   "source": [
    "class classA:\n",
    "    def out(self):\n",
    "        return \"This is class A output\"\n",
    "class classB(classA):\n",
    "    def out(self):\n",
    "        return \"This is class B output\""
   ]
  },
  {
   "cell_type": "code",
   "execution_count": 51,
   "id": "07c9741b-4294-4026-af06-6de863c6610b",
   "metadata": {},
   "outputs": [],
   "source": [
    "cl=classB()"
   ]
  },
  {
   "cell_type": "code",
   "execution_count": null,
   "id": "63502cd1-0f5a-42d8-a549-72496131d0f5",
   "metadata": {},
   "outputs": [],
   "source": []
  }
 ],
 "metadata": {
  "kernelspec": {
   "display_name": "Python 3 (ipykernel)",
   "language": "python",
   "name": "python3"
  },
  "language_info": {
   "codemirror_mode": {
    "name": "ipython",
    "version": 3
   },
   "file_extension": ".py",
   "mimetype": "text/x-python",
   "name": "python",
   "nbconvert_exporter": "python",
   "pygments_lexer": "ipython3",
   "version": "3.10.8"
  }
 },
 "nbformat": 4,
 "nbformat_minor": 5
}
