{
 "cells": [
  {
   "cell_type": "code",
   "execution_count": null,
   "id": "53ded030-00cf-4dfb-b18f-4be820f325c2",
   "metadata": {},
   "outputs": [],
   "source": [
    "#Q1.How do you comment code in Python? What are different types of comments?\n",
    "\"\"\"In python we comment code using # or triple(\" or').There are 2 different types of comments:\n",
    "1. Single line comment-If the comment is single line we use #\n",
    "2. Multi line comment- If it is multi lined comment we use triple(\"/').\"\"\""
   ]
  },
  {
   "cell_type": "code",
   "execution_count": null,
   "id": "df9786d4-e9fa-4341-8ad0-3d68c31f9870",
   "metadata": {},
   "outputs": [],
   "source": [
    "#Q2. What are variables in Python? How do you declare and assign to variables?\n",
    "\"\"\"A Python variable is a symbolic name that is a reference or pointer to an object. \n",
    "Once an object is assigned to a variable, you can refer to the object by that name.\n",
    "Declaring a Variable:\n",
    "1.Just name the variable.\n",
    "2.Assign the required value to it.\n",
    "3.The data type of the variable will be automatically determined from the value assigned, \n",
    "we need not define it explicitly.\"\"\""
   ]
  },
  {
   "cell_type": "code",
   "execution_count": null,
   "id": "44522058-3644-4a62-a989-76464ec1b18a",
   "metadata": {},
   "outputs": [],
   "source": [
    "#Q3.How do you convert one data type to another in Python?\n",
    "\"\"\" In Python you can convert one data type to another using type conversion functions, which is also called as\n",
    "type casting. Below is an example:\"\"\""
   ]
  },
  {
   "cell_type": "code",
   "execution_count": 9,
   "id": "cc084e24-9f6c-472c-b589-772ef5f69eca",
   "metadata": {},
   "outputs": [
    {
     "data": {
      "text/plain": [
       "float"
      ]
     },
     "execution_count": 9,
     "metadata": {},
     "output_type": "execute_result"
    }
   ],
   "source": [
    "A = 12.34\n",
    "type(A)"
   ]
  },
  {
   "cell_type": "code",
   "execution_count": 11,
   "id": "014920f5-56ff-4435-9da5-a0fb423946f3",
   "metadata": {},
   "outputs": [
    {
     "data": {
      "text/plain": [
       "12"
      ]
     },
     "execution_count": 11,
     "metadata": {},
     "output_type": "execute_result"
    }
   ],
   "source": [
    "B = int(A)\n",
    "B"
   ]
  },
  {
   "cell_type": "code",
   "execution_count": 12,
   "id": "8eb7cf35-c504-4004-8924-64f2d35ad4ee",
   "metadata": {},
   "outputs": [
    {
     "data": {
      "text/plain": [
       "int"
      ]
     },
     "execution_count": 12,
     "metadata": {},
     "output_type": "execute_result"
    }
   ],
   "source": [
    "type(B)"
   ]
  },
  {
   "cell_type": "code",
   "execution_count": null,
   "id": "81a674f1-4b99-4dbb-8c00-fca7a278ea1b",
   "metadata": {},
   "outputs": [],
   "source": [
    "#Q4. How do you write and execute a Python scritp from the command line?\n",
    "\"\"\" 1.Open a text editor or an IDE to write Python script and create a new file and enter Python code.\n",
    "2. Save the file with a '.py' extension.\n",
    "3. Now open the command prompt or terminal on computer\n",
    "4. Navigate to the directory where Python script is saved using the 'cd' command.\n",
    "5. Once you are in the correct directory, you can execute the script by typing 'Python'\n",
    "followed by script's file name and press ENTER, and we can see the output of the script"
   ]
  },
  {
   "cell_type": "code",
   "execution_count": 1,
   "id": "48a94394-3064-4b8f-919f-162e84aef357",
   "metadata": {},
   "outputs": [],
   "source": [
    "#Q5. Given a list my_list = [1,2,3,4,5], write the code to slice the list and obtain the sub-list [2,3]\n",
    "\n",
    "my_list = [1,2,3,4,5]"
   ]
  },
  {
   "cell_type": "code",
   "execution_count": 2,
   "id": "da22f5c0-a00a-4f1d-b2a7-425a0f69f592",
   "metadata": {},
   "outputs": [
    {
     "data": {
      "text/plain": [
       "[2, 3]"
      ]
     },
     "execution_count": 2,
     "metadata": {},
     "output_type": "execute_result"
    }
   ],
   "source": [
    "my_list[1:3]"
   ]
  },
  {
   "cell_type": "code",
   "execution_count": 3,
   "id": "ac5a7288-7a67-4d50-b3dd-f7aa715f2c7a",
   "metadata": {},
   "outputs": [],
   "source": [
    "#Q6. What is complex number in mathematics and how is it represented in Python?\n",
    "\"\"\" Complex number is a combination of real number and a imaginary number.\n",
    "eg:A+Bj, here A and B are real numbers and j is a imaginary number.\n",
    "In Python imaginary number is always represented by j.\"\"\"\n",
    "\n",
    "B = 4+5j"
   ]
  },
  {
   "cell_type": "code",
   "execution_count": 4,
   "id": "8b825fc6-e66b-481c-bb4b-65a9f3a1e5b2",
   "metadata": {},
   "outputs": [
    {
     "data": {
      "text/plain": [
       "complex"
      ]
     },
     "execution_count": 4,
     "metadata": {},
     "output_type": "execute_result"
    }
   ],
   "source": [
    "type(B)"
   ]
  },
  {
   "cell_type": "code",
   "execution_count": 5,
   "id": "35b8451e-3623-4483-8b8e-cb1774c500cf",
   "metadata": {},
   "outputs": [],
   "source": [
    "#Q7. What is the correct way to declare a variable named age and assign the value 25 to it?\n",
    "\"\"\"Python has no command for declaring a variable.A variable is created when some value is assigned to it.\"\"\"\n",
    "Age = 25"
   ]
  },
  {
   "cell_type": "code",
   "execution_count": 6,
   "id": "71cc88f2-9f31-444e-9ee5-6f0d27e3d301",
   "metadata": {},
   "outputs": [
    {
     "data": {
      "text/plain": [
       "25"
      ]
     },
     "execution_count": 6,
     "metadata": {},
     "output_type": "execute_result"
    }
   ],
   "source": [
    "Age"
   ]
  },
  {
   "cell_type": "code",
   "execution_count": 9,
   "id": "6dddab02-f52b-46e9-ae7b-29bd10b1d77a",
   "metadata": {},
   "outputs": [],
   "source": [
    "#Q8. Declare a variable named price and assign a value 9.99 to it. What data type does this variable belong to?\n",
    "\n",
    "price=9.99 # Variable type = float"
   ]
  },
  {
   "cell_type": "code",
   "execution_count": 10,
   "id": "34b4bfac-9544-48de-96d4-b87845560864",
   "metadata": {},
   "outputs": [
    {
     "data": {
      "text/plain": [
       "9.99"
      ]
     },
     "execution_count": 10,
     "metadata": {},
     "output_type": "execute_result"
    }
   ],
   "source": [
    "price"
   ]
  },
  {
   "cell_type": "code",
   "execution_count": 11,
   "id": "89ec525f-0d32-4d63-9d26-93e79a83e6da",
   "metadata": {},
   "outputs": [
    {
     "data": {
      "text/plain": [
       "float"
      ]
     },
     "execution_count": 11,
     "metadata": {},
     "output_type": "execute_result"
    }
   ],
   "source": [
    "type(price)"
   ]
  },
  {
   "cell_type": "code",
   "execution_count": 12,
   "id": "13e7ed20-e582-4903-9d0f-34ea7590ddad",
   "metadata": {},
   "outputs": [],
   "source": [
    "#Q9. Create a variable named name and your full name to it as a string.How would you print the values of this variable?\n",
    "name=\"Uma Beeraka\""
   ]
  },
  {
   "cell_type": "code",
   "execution_count": 13,
   "id": "ea52c5ac-ae59-4987-87e3-dcd52050a916",
   "metadata": {},
   "outputs": [
    {
     "name": "stdout",
     "output_type": "stream",
     "text": [
      "U\n",
      "m\n",
      "a\n",
      " \n",
      "B\n",
      "e\n",
      "e\n",
      "r\n",
      "a\n",
      "k\n",
      "a\n"
     ]
    }
   ],
   "source": [
    "for i in name:\n",
    "    print(i)"
   ]
  },
  {
   "cell_type": "code",
   "execution_count": 14,
   "id": "056b3a9e-93b2-46f7-8312-c9d3b39a4fe8",
   "metadata": {},
   "outputs": [
    {
     "name": "stdout",
     "output_type": "stream",
     "text": [
      "Uma Beeraka"
     ]
    }
   ],
   "source": [
    "for i in name:\n",
    "    print(i,end=\"\")"
   ]
  },
  {
   "cell_type": "code",
   "execution_count": 15,
   "id": "62c9696e-8ddd-4fe4-a7b0-2e0320ec67ea",
   "metadata": {},
   "outputs": [],
   "source": [
    "#Q10. Given the string \"Hello, World!\", extract the substring \"World\"\n",
    "\n",
    "x=\"Hello, World!\""
   ]
  },
  {
   "cell_type": "code",
   "execution_count": 16,
   "id": "e7c143ce-986a-475b-be72-7ba17158d5f8",
   "metadata": {},
   "outputs": [
    {
     "data": {
      "text/plain": [
       "'World'"
      ]
     },
     "execution_count": 16,
     "metadata": {},
     "output_type": "execute_result"
    }
   ],
   "source": [
    "x[7:12]"
   ]
  },
  {
   "cell_type": "code",
   "execution_count": 3,
   "id": "61178a3b-c1b2-4ef3-9134-68cfb50a7670",
   "metadata": {},
   "outputs": [
    {
     "name": "stdout",
     "output_type": "stream",
     "text": [
      "Currently not a student\n"
     ]
    }
   ],
   "source": [
    "#Q11. Create a variable name \"is_student\" and assign it to a boolean value indicating wether you are currently a student or not.\n",
    "is_student = True\n",
    "if is_student:\n",
    "    print(\"Currently a student\")\n",
    "else:\n",
    "    print(\"Currently not a student\")"
   ]
  },
  {
   "cell_type": "code",
   "execution_count": 19,
   "id": "99889c1c-c7bb-445b-be4f-f9b424c4e2e2",
   "metadata": {},
   "outputs": [],
   "source": []
  },
  {
   "cell_type": "code",
   "execution_count": null,
   "id": "77ef3b99-c9bf-4d02-80b6-7119e9765755",
   "metadata": {},
   "outputs": [],
   "source": []
  }
 ],
 "metadata": {
  "kernelspec": {
   "display_name": "Python 3 (ipykernel)",
   "language": "python",
   "name": "python3"
  },
  "language_info": {
   "codemirror_mode": {
    "name": "ipython",
    "version": 3
   },
   "file_extension": ".py",
   "mimetype": "text/x-python",
   "name": "python",
   "nbconvert_exporter": "python",
   "pygments_lexer": "ipython3",
   "version": "3.10.8"
  }
 },
 "nbformat": 4,
 "nbformat_minor": 5
}
