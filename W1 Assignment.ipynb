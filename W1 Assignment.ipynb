{
 "cells": [
  {
   "cell_type": "code",
   "execution_count": 1,
   "id": "3dd33ea6-66e4-453c-8b3b-5b5505761fd3",
   "metadata": {},
   "outputs": [],
   "source": [
    "#Q1:Create one variable containing following type of data:i) string ii)list iii)float iv) tuple\n",
    "String = \"UMA\"\n",
    "List = [0,1,2,\"three\",True,5,\"six\"]\n",
    "Float = 2.34\n",
    "Tuple = (0,1,2,\"three\",True,5,\"six\")"
   ]
  },
  {
   "cell_type": "code",
   "execution_count": 2,
   "id": "95b39e58-b6a7-4102-ab34-4a8f5a2970cf",
   "metadata": {},
   "outputs": [],
   "source": [
    "#Q2: Given are somr following variables containing data:\n",
    "var1 =''# String\n",
    "var2 = '[DS, Ml, Python]' # String\n",
    "var3 = ['DS', 'Ml', 'Python'] # List\n",
    "var4 =1 # int\n",
    "# What will be the data type of above given variable."
   ]
  },
  {
   "cell_type": "code",
   "execution_count": 3,
   "id": "005f2144-54a6-446b-b157-f0072811bca9",
   "metadata": {},
   "outputs": [
    {
     "data": {
      "text/plain": [
       "9.0"
      ]
     },
     "execution_count": 3,
     "metadata": {},
     "output_type": "execute_result"
    }
   ],
   "source": [
    "#Q3: Explain the use of the following operators using an example:\n",
    "# /- used for dividing one number with another\n",
    "45/5"
   ]
  },
  {
   "cell_type": "code",
   "execution_count": 4,
   "id": "f2e91a36-cdf9-454e-bab4-0db338bf71b2",
   "metadata": {},
   "outputs": [
    {
     "data": {
      "text/plain": [
       "0"
      ]
     },
     "execution_count": 4,
     "metadata": {},
     "output_type": "execute_result"
    }
   ],
   "source": [
    "# % - gives the remainder\n",
    "45%5"
   ]
  },
  {
   "cell_type": "code",
   "execution_count": 5,
   "id": "6eb89a46-2930-4d79-b1da-398a5781ec44",
   "metadata": {},
   "outputs": [
    {
     "data": {
      "text/plain": [
       "9"
      ]
     },
     "execution_count": 5,
     "metadata": {},
     "output_type": "execute_result"
    }
   ],
   "source": [
    "# // - gives the quotient\n",
    "45//5"
   ]
  },
  {
   "cell_type": "code",
   "execution_count": 6,
   "id": "b4ba1138-2363-4d3d-a823-d17065d4dc30",
   "metadata": {},
   "outputs": [
    {
     "data": {
      "text/plain": [
       "16"
      ]
     },
     "execution_count": 6,
     "metadata": {},
     "output_type": "execute_result"
    }
   ],
   "source": [
    "# **- initial number to the power of other number\n",
    "4**2"
   ]
  },
  {
   "cell_type": "code",
   "execution_count": 7,
   "id": "eea2185e-571c-4f12-ac6f-33b1ba361243",
   "metadata": {},
   "outputs": [
    {
     "name": "stdout",
     "output_type": "stream",
     "text": [
      "0 is of type <class 'int'>\n",
      "1 is of type <class 'int'>\n",
      "2 is of type <class 'int'>\n",
      "three is of type <class 'str'>\n",
      "True is of type <class 'bool'>\n",
      "5 is of type <class 'int'>\n",
      "six is of type <class 'str'>\n",
      "7.5 is of type <class 'float'>\n",
      "False is of type <class 'bool'>\n",
      "9 is of type <class 'int'>\n",
      "(10+1j) is of type <class 'complex'>\n"
     ]
    }
   ],
   "source": [
    "#Q4: Create a list of length 10 of your choice containing multiple types of data. \n",
    "#Using for loop print the element and its data type\n",
    "Q = [0,1,2,\"three\",True,5,\"six\",7.5,False,9,10+1j]\n",
    "for i in Q:\n",
    "    print(f\"{i} is of type {type(i)}\")"
   ]
  },
  {
   "cell_type": "code",
   "execution_count": 8,
   "id": "4b674520-6f4d-45d6-a557-ae1014662507",
   "metadata": {},
   "outputs": [],
   "source": [
    "#Q5: Using a while loop, verify if the number A is purely divisible by number B \n",
    "#and if so then how many times it can be divisible"
   ]
  },
  {
   "cell_type": "code",
   "execution_count": 9,
   "id": "be14f320-4234-4a9e-9ce8-f3844cc98868",
   "metadata": {},
   "outputs": [
    {
     "name": "stdout",
     "output_type": "stream",
     "text": [
      "45 is divisible by 5 and divided by 9.0 times.\n"
     ]
    }
   ],
   "source": [
    "A = 45\n",
    "B = 5\n",
    "\n",
    "while A%B == 0:\n",
    "    D = A/B \n",
    "    print(f\"{A} is divisible by {B} and divided by {D} times.\")\n",
    "    break\n",
    "\n",
    "else:\n",
    "    print(f\"{A} is not divisible by {B}\")"
   ]
  },
  {
   "cell_type": "code",
   "execution_count": 10,
   "id": "9eec1f3a-ac3c-4700-930a-615b018331ca",
   "metadata": {},
   "outputs": [],
   "source": [
    "#Q6: Create a list containing 25 int type data. \n",
    "#Using for loop and if-else condition print if the element is divisible by 3 or not. \n"
   ]
  },
  {
   "cell_type": "code",
   "execution_count": 11,
   "id": "8e741467-f3f2-46aa-84e0-ef697abe39e6",
   "metadata": {},
   "outputs": [
    {
     "name": "stdout",
     "output_type": "stream",
     "text": [
      "1 is not divisble by 3.\n",
      "2 is not divisble by 3.\n",
      "3 is divisble by 3.\n",
      "4 is not divisble by 3.\n",
      "5 is not divisble by 3.\n",
      "6 is divisble by 3.\n",
      "7 is not divisble by 3.\n",
      "8 is not divisble by 3.\n",
      "9 is divisble by 3.\n",
      "10 is not divisble by 3.\n",
      "11 is not divisble by 3.\n",
      "12 is divisble by 3.\n",
      "13 is not divisble by 3.\n",
      "14 is not divisble by 3.\n",
      "15 is divisble by 3.\n",
      "16 is not divisble by 3.\n",
      "17 is not divisble by 3.\n",
      "18 is divisble by 3.\n",
      "19 is not divisble by 3.\n",
      "20 is not divisble by 3.\n",
      "21 is divisble by 3.\n",
      "22 is not divisble by 3.\n",
      "23 is not divisble by 3.\n",
      "24 is divisble by 3.\n",
      "25 is not divisble by 3.\n"
     ]
    }
   ],
   "source": [
    "L = [1,2,3,4,5,6,7,8,9,10,11,12,13,14,15,16,17,18,19,20,21,22,23,24,25]\n",
    "\n",
    "for i in L:\n",
    "    if i%3 == 0:\n",
    "        print(f\"{i} is divisble by 3.\")\n",
    "        \n",
    "    else:\n",
    "        print(f\"{i} is not divisble by 3.\")"
   ]
  },
  {
   "cell_type": "code",
   "execution_count": null,
   "id": "5c9058fb-7749-4077-bd48-8f38e2181a3f",
   "metadata": {},
   "outputs": [],
   "source": [
    "#Q7: What do you understand about mutable and immutable data types? Give examples for both showing this property.\n",
    "# Mutable:An data type that allows you to change its values without changing its identity is a mutable Data type.\n",
    "#eg: List\n",
    "# Immutable:Immutable datatypes are data types that cannot be modified or altered after they have been created.\n",
    "#eg: String\n"
   ]
  }
 ],
 "metadata": {
  "kernelspec": {
   "display_name": "Python 3 (ipykernel)",
   "language": "python",
   "name": "python3"
  },
  "language_info": {
   "codemirror_mode": {
    "name": "ipython",
    "version": 3
   },
   "file_extension": ".py",
   "mimetype": "text/x-python",
   "name": "python",
   "nbconvert_exporter": "python",
   "pygments_lexer": "ipython3",
   "version": "3.10.8"
  }
 },
 "nbformat": 4,
 "nbformat_minor": 5
}
