{
 "cells": [
  {
   "cell_type": "code",
   "execution_count": 1,
   "id": "67810fa4-ccf9-4feb-89bb-caa61c72ed24",
   "metadata": {},
   "outputs": [],
   "source": [
    "# Q1. Create a python program to sort the given list of tuples based on intiger value using a lambda function.\n",
    "# [(\"Sachin Tendulkar\", 34357),(\"Ricky Ponting\", 27483),(\"Virat Kohli\", 24936)]"
   ]
  },
  {
   "cell_type": "code",
   "execution_count": 2,
   "id": "13e736d1-e6b5-4ac5-8027-d1bcf8111136",
   "metadata": {},
   "outputs": [],
   "source": [
    "l=[(\"Sachin Tendulkar\", 34357),(\"Ricky Ponting\", 27483),(\"Virat Kohli\", 24936)]"
   ]
  },
  {
   "cell_type": "code",
   "execution_count": 17,
   "id": "56f4fa18-2630-4689-b725-7bd1a75bf2b3",
   "metadata": {},
   "outputs": [
    {
     "name": "stdout",
     "output_type": "stream",
     "text": [
      "('Virat Kohli', 24936)\n",
      "('Ricky Ponting', 27483)\n",
      "('Sachin Tendulkar', 34357)\n"
     ]
    }
   ],
   "source": [
    "l1= sorted(l, key = lambda x:x[1])\n",
    "for i in l1:\n",
    "    print(i)"
   ]
  },
  {
   "cell_type": "code",
   "execution_count": 19,
   "id": "cc382197-6a57-4eba-bf1c-b69a0a256b94",
   "metadata": {},
   "outputs": [],
   "source": [
    "#Q2. Write a python program to find the squares of all the numbers in the given list of intigers using lamda and map functions.\n",
    "# [1,2,3,4,5,6,7,8,9,10]"
   ]
  },
  {
   "cell_type": "code",
   "execution_count": 23,
   "id": "028a5fa0-2c86-49ef-8e98-068bba8ae159",
   "metadata": {},
   "outputs": [],
   "source": [
    "l2=[1,2,3,4,5,6,7,8,9,10]\n"
   ]
  },
  {
   "cell_type": "code",
   "execution_count": 24,
   "id": "2ead1afe-70bf-43ec-a724-944175938338",
   "metadata": {},
   "outputs": [
    {
     "data": {
      "text/plain": [
       "[1, 4, 9, 16, 25, 36, 49, 64, 81, 100]"
      ]
     },
     "execution_count": 24,
     "metadata": {},
     "output_type": "execute_result"
    }
   ],
   "source": [
    "list(map((lambda x: x**2),l2))"
   ]
  },
  {
   "cell_type": "code",
   "execution_count": 25,
   "id": "3e2358b5-ba53-418e-927d-ba4e21a7dda7",
   "metadata": {},
   "outputs": [],
   "source": [
    "# Q3.Write a pythom program to convert list of intigers into a tuple of strings. Use map and lambda functions.\n",
    "# Given list: [1,2,3,4,5,6,7,8,9,10]\n",
    "# Expected output: ('1','2','3','4','5','6','7','8','9','10')"
   ]
  },
  {
   "cell_type": "code",
   "execution_count": 26,
   "id": "abbcc214-b3b3-4bc7-b1d7-a28661396c76",
   "metadata": {},
   "outputs": [],
   "source": [
    "l3=[1,2,3,4,5,6,7,8,9,10]"
   ]
  },
  {
   "cell_type": "code",
   "execution_count": 28,
   "id": "6c7fe6aa-bf6b-48af-97bd-60edbda8b38d",
   "metadata": {},
   "outputs": [
    {
     "data": {
      "text/plain": [
       "('1', '2', '3', '4', '5', '6', '7', '8', '9', '10')"
      ]
     },
     "execution_count": 28,
     "metadata": {},
     "output_type": "execute_result"
    }
   ],
   "source": [
    "tuple(map(lambda x: str(x),l3))"
   ]
  },
  {
   "cell_type": "code",
   "execution_count": 29,
   "id": "48d30158-5e2d-46cf-aae8-27390ed3dc05",
   "metadata": {},
   "outputs": [],
   "source": [
    "#Q4. Write a python program using reduce functions to compute the product of list containing 1 to 25."
   ]
  },
  {
   "cell_type": "code",
   "execution_count": 40,
   "id": "ee040092-390d-46e9-9d2d-d5fd751786e2",
   "metadata": {},
   "outputs": [],
   "source": [
    "from functools import reduce\n",
    "\n",
    "l4= list(range(1,26))"
   ]
  },
  {
   "cell_type": "code",
   "execution_count": 41,
   "id": "e17b0274-9eeb-4297-aaf2-ebae3c1aafdb",
   "metadata": {},
   "outputs": [
    {
     "data": {
      "text/plain": [
       "15511210043330985984000000"
      ]
     },
     "execution_count": 41,
     "metadata": {},
     "output_type": "execute_result"
    }
   ],
   "source": [
    "reduce (lambda x,y: x*y,l4)"
   ]
  },
  {
   "cell_type": "code",
   "execution_count": 42,
   "id": "ccaeab12-dc26-42a5-8a54-b4a668a73ce4",
   "metadata": {},
   "outputs": [],
   "source": [
    "#Q5. Write a python program to filter the numbers in a given list that are divisible by 2 and 3 using the filter function.\n",
    "#[2,3,6,9,27,,60,90,120,55,46]"
   ]
  },
  {
   "cell_type": "code",
   "execution_count": 44,
   "id": "463c6fb0-2960-4969-92a2-d0516436c7a2",
   "metadata": {},
   "outputs": [],
   "source": [
    "l5=[2,3,6,9,27,60,90,120,55,46]"
   ]
  },
  {
   "cell_type": "code",
   "execution_count": 46,
   "id": "35480c4c-96e3-4d5a-8994-7fee7c825618",
   "metadata": {},
   "outputs": [
    {
     "data": {
      "text/plain": [
       "[6, 60, 90, 120]"
      ]
     },
     "execution_count": 46,
     "metadata": {},
     "output_type": "execute_result"
    }
   ],
   "source": [
    "list(filter(lambda x: x%2==0 and x%3==0,l5))"
   ]
  },
  {
   "cell_type": "code",
   "execution_count": 47,
   "id": "ec937de6-0d65-4ac4-b313-d5debf9257e5",
   "metadata": {},
   "outputs": [],
   "source": [
    "#Q6. Write a python program to find the palindromes in the given list of strings using lambda and filter function\n",
    "#['python','php','aba','radar','level']"
   ]
  },
  {
   "cell_type": "code",
   "execution_count": 48,
   "id": "90bcbf25-ad13-4408-ab46-14dcc2bfbc23",
   "metadata": {},
   "outputs": [],
   "source": [
    "l6=['python','php','aba','radar','level']\n"
   ]
  },
  {
   "cell_type": "code",
   "execution_count": 51,
   "id": "fc468135-9077-47a3-a895-7f4b03979638",
   "metadata": {},
   "outputs": [
    {
     "data": {
      "text/plain": [
       "['php', 'aba', 'radar', 'level']"
      ]
     },
     "execution_count": 51,
     "metadata": {},
     "output_type": "execute_result"
    }
   ],
   "source": [
    "list(filter(lambda x: x == x[::-1],l6))"
   ]
  },
  {
   "cell_type": "code",
   "execution_count": null,
   "id": "3e93cc58-779c-41ce-ae6a-46e2ac734895",
   "metadata": {},
   "outputs": [],
   "source": []
  }
 ],
 "metadata": {
  "kernelspec": {
   "display_name": "Python 3 (ipykernel)",
   "language": "python",
   "name": "python3"
  },
  "language_info": {
   "codemirror_mode": {
    "name": "ipython",
    "version": 3
   },
   "file_extension": ".py",
   "mimetype": "text/x-python",
   "name": "python",
   "nbconvert_exporter": "python",
   "pygments_lexer": "ipython3",
   "version": "3.10.8"
  }
 },
 "nbformat": 4,
 "nbformat_minor": 5
}
